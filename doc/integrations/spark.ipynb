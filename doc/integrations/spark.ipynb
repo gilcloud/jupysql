{
 "cells": [
  {
   "attachments": {},
   "cell_type": "markdown",
   "metadata": {},
   "source": [
    "# Spark\n",
    "\n",
    "This tutorial will show you how to get a Spark instance up and running locally to integrate with JupySQL. You can run this in a Jupyter notebook. We'll use [Spark Connect](https://spark.apache.org/docs/latest/api/python/getting_started/quickstart_connect.html) which is the new thin client for Spark"
   ]
  },
  {
   "attachments": {},
   "cell_type": "markdown",
   "metadata": {},
   "source": [
    "## Pre-requisites\n",
    "\n",
    "To run this tutorial, you need to install following Python packages:"
   ]
  },
  {
   "cell_type": "code",
   "execution_count": 14,
   "metadata": {
    "tags": []
   },
   "outputs": [
    {
     "name": "stdout",
     "output_type": "stream",
     "text": [
      "Note: you may need to restart the kernel to use updated packages.\n"
     ]
    }
   ],
   "source": [
    "%pip install jupysql pyspark==3.4.1 arrow pyarrow==12.0.1 pandas grpcio-status --quiet"
   ]
  },
  {
   "attachments": {},
   "cell_type": "markdown",
   "metadata": {},
   "source": [
    "## Start Spark instance\n",
    "\n",
    "We fetch the official image, create a new database, and user (this will take a few seconds)."
   ]
  },
  {
   "cell_type": "code",
   "execution_count": 15,
   "metadata": {
    "tags": []
   },
   "outputs": [
    {
     "name": "stdout",
     "output_type": "stream",
     "text": [
      "12f699ee8e8e35ab10186f3c39024a7e443691bb4213e56ca3c2e90cd80daf1b\n"
     ]
    }
   ],
   "source": [
    "%%bash\n",
    "docker run -p 15002:15002 -p 4040:4040 -d --name spark wh1isper/sparglim-server"
   ]
  },
  {
   "attachments": {},
   "cell_type": "markdown",
   "metadata": {},
   "source": [
    "Our database is running, let's load some data!"
   ]
  },
  {
   "attachments": {},
   "cell_type": "markdown",
   "metadata": {},
   "source": [
    "## Load sample data\n",
    "\n",
    "Now, let's fetch some sample data. We'll be using the [NYC taxi dataset](https://www.nyc.gov/site/tlc/about/tlc-trip-record-data.page):"
   ]
  },
  {
   "cell_type": "code",
   "execution_count": 16,
   "metadata": {
    "tags": []
   },
   "outputs": [],
   "source": [
    "import pandas as pd\n",
    "from pyspark.sql.connect.session import SparkSession\n",
    "\n",
    "spark = SparkSession.builder.remote(\"sc://localhost\").getOrCreate()\n",
    "\n",
    "df = pd.read_parquet(\n",
    "    \"https://d37ci6vzurychx.cloudfront.net/trip-data/yellow_tripdata_2021-01.parquet\"\n",
    ")\n",
    "sparkDf = spark.createDataFrame(df.head(10000))"
   ]
  },
  {
   "cell_type": "markdown",
   "metadata": {},
   "source": [
    "Set [eagerEval](https://spark.apache.org/docs/latest/api/python/getting_started/quickstart_df.html#Viewing-Data) on to print dataframes, This makes Spark print dataframes eagerly in notebook environments, rather than it's default lazy execution which requires .show() to see the data. In Spark 3.4.1 we need to override, as below, but in 3.5.0 it will print in html. "
   ]
  },
  {
   "cell_type": "code",
   "execution_count": 17,
   "metadata": {},
   "outputs": [],
   "source": [
    "def __pretty_(self, p, cycle):\n",
    "    self.show(truncate=False)\n",
    "\n",
    "\n",
    "from pyspark.sql.connect.dataframe import DataFrame\n",
    "\n",
    "DataFrame._repr_pretty_ = __pretty_\n",
    "spark.conf.set(\"spark.sql.repl.eagerEval.enabled\", True)"
   ]
  },
  {
   "attachments": {},
   "cell_type": "markdown",
   "metadata": {},
   "source": [
    "Add dataset to temporary view to allow querying:"
   ]
  },
  {
   "cell_type": "code",
   "execution_count": 18,
   "metadata": {
    "tags": []
   },
   "outputs": [],
   "source": [
    "sparkDf.createOrReplaceTempView(\"taxi\")"
   ]
  },
  {
   "attachments": {},
   "cell_type": "markdown",
   "metadata": {},
   "source": [
    "## Query\n",
    "\n",
    "Now, let's start JupySQL, authenticate, and query the data!"
   ]
  },
  {
   "cell_type": "code",
   "execution_count": 19,
   "metadata": {
    "tags": []
   },
   "outputs": [
    {
     "name": "stdout",
     "output_type": "stream",
     "text": [
      "The sql extension is already loaded. To reload it, use:\n",
      "  %reload_ext sql\n"
     ]
    }
   ],
   "source": [
    "%load_ext sql"
   ]
  },
  {
   "cell_type": "code",
   "execution_count": 20,
   "metadata": {
    "tags": []
   },
   "outputs": [],
   "source": [
    "%sql spark"
   ]
  },
  {
   "attachments": {},
   "cell_type": "markdown",
   "metadata": {},
   "source": [
    "```{important}\n",
    "If the cell above fails, you might have some missing packages. Message us on [Slack](https://ploomber.io/community) and we'll help you!\n",
    "```"
   ]
  },
  {
   "attachments": {},
   "cell_type": "markdown",
   "metadata": {},
   "source": [
    "List the tables in the database:"
   ]
  },
  {
   "cell_type": "code",
   "execution_count": 22,
   "metadata": {
    "tags": []
   },
   "outputs": [
    {
     "data": {
      "text/html": [
       "<span style=\"None\">Running query in &#x27;SparkSession&#x27;</span>"
      ],
      "text/plain": [
       "Running query in 'SparkSession'"
      ]
     },
     "metadata": {},
     "output_type": "display_data"
    },
    {
     "data": {
      "text/html": [
       "<table>\n",
       "    <thead>\n",
       "        <tr>\n",
       "            <th>namespace</th>\n",
       "            <th>viewName</th>\n",
       "            <th>isTemporary</th>\n",
       "        </tr>\n",
       "    </thead>\n",
       "    <tbody>\n",
       "        <tr>\n",
       "            <td></td>\n",
       "            <td>taxi</td>\n",
       "            <td>True</td>\n",
       "        </tr>\n",
       "    </tbody>\n",
       "</table>"
      ],
      "text/plain": [
       "+-----------+----------+-------------+\n",
       "| namespace | viewName | isTemporary |\n",
       "+-----------+----------+-------------+\n",
       "|           |   taxi   |     True    |\n",
       "+-----------+----------+-------------+"
      ]
     },
     "execution_count": 22,
     "metadata": {},
     "output_type": "execute_result"
    }
   ],
   "source": [
    "%sql show views in default"
   ]
  },
  {
   "cell_type": "markdown",
   "metadata": {},
   "source": [
    "We can turn on `lazy_spark` to avoid executing spark plan and return a Spark Dataframe"
   ]
  },
  {
   "cell_type": "code",
   "execution_count": 23,
   "metadata": {},
   "outputs": [],
   "source": [
    "%config SqlMagic.lazy_execution = True"
   ]
  },
  {
   "cell_type": "code",
   "execution_count": 8,
   "metadata": {},
   "outputs": [
    {
     "data": {
      "text/html": [
       "<span style=\"None\">Running query in &#x27;SparkSession&#x27;</span>"
      ],
      "text/plain": [
       "Running query in 'SparkSession'"
      ]
     },
     "metadata": {},
     "output_type": "display_data"
    },
    {
     "name": "stdout",
     "output_type": "stream",
     "text": [
      "+---------+--------+-----------+\n",
      "|namespace|viewName|isTemporary|\n",
      "+---------+--------+-----------+\n",
      "|         |taxi    |true       |\n",
      "+---------+--------+-----------+\n",
      "\n"
     ]
    },
    {
     "data": {
      "text/plain": []
     },
     "execution_count": 8,
     "metadata": {},
     "output_type": "execute_result"
    }
   ],
   "source": [
    "%sql show views in default"
   ]
  },
  {
   "cell_type": "code",
   "execution_count": 24,
   "metadata": {},
   "outputs": [],
   "source": [
    "%config SqlMagic.lazy_execution = False"
   ]
  },
  {
   "attachments": {},
   "cell_type": "markdown",
   "metadata": {},
   "source": [
    "List columns in the taxi table:"
   ]
  },
  {
   "cell_type": "code",
   "execution_count": 25,
   "metadata": {
    "tags": []
   },
   "outputs": [
    {
     "data": {
      "text/html": [
       "<span style=\"None\">Running query in &#x27;SparkSession&#x27;</span>"
      ],
      "text/plain": [
       "Running query in 'SparkSession'"
      ]
     },
     "metadata": {},
     "output_type": "display_data"
    },
    {
     "name": "stdout",
     "output_type": "stream",
     "text": [
      "root\n",
      " |-- VendorID: long (nullable = true)\n",
      " |-- tpep_pickup_datetime: timestamp (nullable = true)\n",
      " |-- tpep_dropoff_datetime: timestamp (nullable = true)\n",
      " |-- passenger_count: double (nullable = true)\n",
      " |-- trip_distance: double (nullable = true)\n",
      " |-- RatecodeID: double (nullable = true)\n",
      " |-- store_and_fwd_flag: string (nullable = true)\n",
      " |-- PULocationID: long (nullable = true)\n",
      " |-- DOLocationID: long (nullable = true)\n",
      " |-- payment_type: long (nullable = true)\n",
      " |-- fare_amount: double (nullable = true)\n",
      " |-- extra: double (nullable = true)\n",
      " |-- mta_tax: double (nullable = true)\n",
      " |-- tip_amount: double (nullable = true)\n",
      " |-- tolls_amount: double (nullable = true)\n",
      " |-- improvement_surcharge: double (nullable = true)\n",
      " |-- total_amount: double (nullable = true)\n",
      " |-- congestion_surcharge: double (nullable = true)\n",
      " |-- airport_fee: double (nullable = true)\n",
      "\n"
     ]
    }
   ],
   "source": [
    "df = %sql select * from taxi\n",
    "df.sqlaproxy.dataframe.printSchema()"
   ]
  },
  {
   "attachments": {},
   "cell_type": "markdown",
   "metadata": {},
   "source": [
    "Query our data:"
   ]
  },
  {
   "cell_type": "code",
   "execution_count": 26,
   "metadata": {
    "tags": []
   },
   "outputs": [
    {
     "data": {
      "text/html": [
       "<span style=\"None\">Running query in &#x27;SparkSession&#x27;</span>"
      ],
      "text/plain": [
       "Running query in 'SparkSession'"
      ]
     },
     "metadata": {},
     "output_type": "display_data"
    },
    {
     "data": {
      "text/html": [
       "<table>\n",
       "    <thead>\n",
       "        <tr>\n",
       "            <th>count(1)</th>\n",
       "        </tr>\n",
       "    </thead>\n",
       "    <tbody>\n",
       "        <tr>\n",
       "            <td>10000</td>\n",
       "        </tr>\n",
       "    </tbody>\n",
       "</table>"
      ],
      "text/plain": [
       "+----------+\n",
       "| count(1) |\n",
       "+----------+\n",
       "|  10000   |\n",
       "+----------+"
      ]
     },
     "execution_count": 26,
     "metadata": {},
     "output_type": "execute_result"
    }
   ],
   "source": [
    "%%sql\n",
    "SELECT COUNT(*) FROM taxi"
   ]
  },
  {
   "attachments": {},
   "cell_type": "markdown",
   "metadata": {},
   "source": [
    "## Parameterize queries"
   ]
  },
  {
   "cell_type": "code",
   "execution_count": 27,
   "metadata": {
    "tags": []
   },
   "outputs": [],
   "source": [
    "threshold = 10"
   ]
  },
  {
   "cell_type": "code",
   "execution_count": 28,
   "metadata": {
    "tags": []
   },
   "outputs": [
    {
     "data": {
      "text/html": [
       "<span style=\"None\">Running query in &#x27;SparkSession&#x27;</span>"
      ],
      "text/plain": [
       "Running query in 'SparkSession'"
      ]
     },
     "metadata": {},
     "output_type": "display_data"
    },
    {
     "data": {
      "text/html": [
       "<table>\n",
       "    <thead>\n",
       "        <tr>\n",
       "            <th>count(1)</th>\n",
       "        </tr>\n",
       "    </thead>\n",
       "    <tbody>\n",
       "        <tr>\n",
       "            <td>9476</td>\n",
       "        </tr>\n",
       "    </tbody>\n",
       "</table>"
      ],
      "text/plain": [
       "+----------+\n",
       "| count(1) |\n",
       "+----------+\n",
       "|   9476   |\n",
       "+----------+"
      ]
     },
     "execution_count": 28,
     "metadata": {},
     "output_type": "execute_result"
    }
   ],
   "source": [
    "%%sql\n",
    "SELECT COUNT(*) FROM taxi\n",
    "WHERE trip_distance < {{threshold}}"
   ]
  },
  {
   "cell_type": "code",
   "execution_count": 29,
   "metadata": {
    "tags": []
   },
   "outputs": [],
   "source": [
    "threshold = 0.5"
   ]
  },
  {
   "cell_type": "code",
   "execution_count": 30,
   "metadata": {
    "tags": []
   },
   "outputs": [
    {
     "data": {
      "text/html": [
       "<span style=\"None\">Running query in &#x27;SparkSession&#x27;</span>"
      ],
      "text/plain": [
       "Running query in 'SparkSession'"
      ]
     },
     "metadata": {},
     "output_type": "display_data"
    },
    {
     "data": {
      "text/html": [
       "<table>\n",
       "    <thead>\n",
       "        <tr>\n",
       "            <th>count(1)</th>\n",
       "        </tr>\n",
       "    </thead>\n",
       "    <tbody>\n",
       "        <tr>\n",
       "            <td>642</td>\n",
       "        </tr>\n",
       "    </tbody>\n",
       "</table>"
      ],
      "text/plain": [
       "+----------+\n",
       "| count(1) |\n",
       "+----------+\n",
       "|   642    |\n",
       "+----------+"
      ]
     },
     "execution_count": 30,
     "metadata": {},
     "output_type": "execute_result"
    }
   ],
   "source": [
    "%%sql\n",
    "SELECT COUNT(*) FROM taxi\n",
    "WHERE trip_distance < {{threshold}}"
   ]
  },
  {
   "attachments": {},
   "cell_type": "markdown",
   "metadata": {},
   "source": [
    "## CTEs"
   ]
  },
  {
   "cell_type": "code",
   "execution_count": 31,
   "metadata": {
    "tags": []
   },
   "outputs": [
    {
     "data": {
      "text/html": [
       "<span style=\"None\">Running query in &#x27;SparkSession&#x27;</span>"
      ],
      "text/plain": [
       "Running query in 'SparkSession'"
      ]
     },
     "metadata": {},
     "output_type": "display_data"
    },
    {
     "data": {
      "text/html": [
       "<span style=\"None\">Skipping execution...</span>"
      ],
      "text/plain": [
       "Skipping execution..."
      ]
     },
     "metadata": {},
     "output_type": "display_data"
    }
   ],
   "source": [
    "%%sql --save many_passengers --no-execute\n",
    "SELECT *\n",
    "FROM taxi\n",
    "WHERE passenger_count > 3\n",
    "-- remove top 1% outliers for better visualization\n",
    "AND trip_distance < 18.93"
   ]
  },
  {
   "cell_type": "code",
   "execution_count": 32,
   "metadata": {
    "tags": []
   },
   "outputs": [
    {
     "data": {
      "text/html": [
       "<span style=\"None\">Running query in &#x27;SparkSession&#x27;</span>"
      ],
      "text/plain": [
       "Running query in 'SparkSession'"
      ]
     },
     "metadata": {},
     "output_type": "display_data"
    },
    {
     "data": {
      "text/html": [
       "<table>\n",
       "    <thead>\n",
       "        <tr>\n",
       "            <th>min(trip_distance)</th>\n",
       "            <th>avg(trip_distance)</th>\n",
       "            <th>max(trip_distance)</th>\n",
       "        </tr>\n",
       "    </thead>\n",
       "    <tbody>\n",
       "        <tr>\n",
       "            <td>0.0</td>\n",
       "            <td>3.1091381872213963</td>\n",
       "            <td>18.46</td>\n",
       "        </tr>\n",
       "    </tbody>\n",
       "</table>"
      ],
      "text/plain": [
       "+--------------------+--------------------+--------------------+\n",
       "| min(trip_distance) | avg(trip_distance) | max(trip_distance) |\n",
       "+--------------------+--------------------+--------------------+\n",
       "|        0.0         | 3.1091381872213963 |       18.46        |\n",
       "+--------------------+--------------------+--------------------+"
      ]
     },
     "execution_count": 32,
     "metadata": {},
     "output_type": "execute_result"
    }
   ],
   "source": [
    "%%sql --save trip_stats --with many_passengers\n",
    "SELECT MIN(trip_distance), AVG(trip_distance), MAX(trip_distance)\n",
    "FROM many_passengers"
   ]
  },
  {
   "attachments": {},
   "cell_type": "markdown",
   "metadata": {},
   "source": [
    "This is what JupySQL executes:"
   ]
  },
  {
   "cell_type": "code",
   "execution_count": 33,
   "metadata": {
    "scrolled": true,
    "tags": []
   },
   "outputs": [
    {
     "name": "stdout",
     "output_type": "stream",
     "text": [
      "WITH `many_passengers` AS (\n",
      "SELECT *\n",
      "FROM taxi\n",
      "WHERE passenger_count > 3\n",
      "\n",
      "AND trip_distance < 18.93)\n",
      "SELECT MIN(trip_distance), AVG(trip_distance), MAX(trip_distance)\n",
      "FROM many_passengers\n"
     ]
    }
   ],
   "source": [
    "query = %sqlcmd snippets trip_stats\n",
    "print(query)"
   ]
  },
  {
   "cell_type": "markdown",
   "metadata": {},
   "source": [
    "## Profiling"
   ]
  },
  {
   "cell_type": "code",
   "execution_count": 34,
   "metadata": {},
   "outputs": [
    {
     "data": {
      "text/html": [
       "<div style='position: sticky; left: 0; padding: 10px; font-size: 12px; color: #FFA500'><strong></strong> Following statistics are not available in\n",
       "            SparkSession: STD, 25%, 50%, 75%</div><style>\n",
       " #profile-table td:first-child {\n",
       "  position: sticky;\n",
       "  left: 0;\n",
       "  background-color: var(--jp-cell-editor-background);\n",
       "  font-weight: bold;\n",
       "}\n",
       " #profile-table thead tr th:first-child {\n",
       "  position: sticky;\n",
       "  left: 0;\n",
       "  background-color: var(--jp-cell-editor-background);\n",
       "  font-weight: bold; /* Adding bold text */\n",
       "}\n",
       "            </style><style></style><table id=\"profile-table-928b62f4de2f447091660aad39b6d103\">\n",
       "    <thead>\n",
       "        <tr>\n",
       "            <th> </th>\n",
       "            <th>VendorID</th>\n",
       "            <th>tpep_pickup_datetime</th>\n",
       "            <th>tpep_dropoff_datetime</th>\n",
       "            <th>passenger_count</th>\n",
       "            <th>trip_distance</th>\n",
       "            <th>RatecodeID</th>\n",
       "            <th>store_and_fwd_flag</th>\n",
       "            <th>PULocationID</th>\n",
       "            <th>DOLocationID</th>\n",
       "            <th>payment_type</th>\n",
       "            <th>fare_amount</th>\n",
       "            <th>extra</th>\n",
       "            <th>mta_tax</th>\n",
       "            <th>tip_amount</th>\n",
       "            <th>tolls_amount</th>\n",
       "            <th>improvement_surcharge</th>\n",
       "            <th>total_amount</th>\n",
       "            <th>congestion_surcharge</th>\n",
       "            <th>airport_fee</th>\n",
       "        </tr>\n",
       "    </thead>\n",
       "    <tbody>\n",
       "        <tr>\n",
       "            <td>count</td>\n",
       "            <td>10000</td>\n",
       "            <td>10000</td>\n",
       "            <td>10000</td>\n",
       "            <td>10000</td>\n",
       "            <td>10000</td>\n",
       "            <td>10000</td>\n",
       "            <td>10000</td>\n",
       "            <td>10000</td>\n",
       "            <td>10000</td>\n",
       "            <td>10000</td>\n",
       "            <td>10000</td>\n",
       "            <td>10000</td>\n",
       "            <td>10000</td>\n",
       "            <td>10000</td>\n",
       "            <td>10000</td>\n",
       "            <td>10000</td>\n",
       "            <td>10000</td>\n",
       "            <td>10000</td>\n",
       "            <td>0</td>\n",
       "        </tr>\n",
       "        <tr>\n",
       "            <td>unique</td>\n",
       "            <td>2</td>\n",
       "            <td>8766</td>\n",
       "            <td>8745</td>\n",
       "            <td>7</td>\n",
       "            <td>1243</td>\n",
       "            <td>6</td>\n",
       "            <td>2</td>\n",
       "            <td>173</td>\n",
       "            <td>230</td>\n",
       "            <td>4</td>\n",
       "            <td>228</td>\n",
       "            <td>8</td>\n",
       "            <td>3</td>\n",
       "            <td>504</td>\n",
       "            <td>18</td>\n",
       "            <td>3</td>\n",
       "            <td>959</td>\n",
       "            <td>3</td>\n",
       "            <td>0</td>\n",
       "        </tr>\n",
       "        <tr>\n",
       "            <td>top</td>\n",
       "            <td>nan</td>\n",
       "            <td>2021-01-01 00:41:19</td>\n",
       "            <td>2021-01-02 00:00:00</td>\n",
       "            <td>nan</td>\n",
       "            <td>nan</td>\n",
       "            <td>nan</td>\n",
       "            <td>N</td>\n",
       "            <td>nan</td>\n",
       "            <td>nan</td>\n",
       "            <td>nan</td>\n",
       "            <td>nan</td>\n",
       "            <td>nan</td>\n",
       "            <td>nan</td>\n",
       "            <td>nan</td>\n",
       "            <td>nan</td>\n",
       "            <td>nan</td>\n",
       "            <td>nan</td>\n",
       "            <td>nan</td>\n",
       "            <td>None</td>\n",
       "        </tr>\n",
       "        <tr>\n",
       "            <td>freq</td>\n",
       "            <td>nan</td>\n",
       "            <td>4</td>\n",
       "            <td>7</td>\n",
       "            <td>nan</td>\n",
       "            <td>nan</td>\n",
       "            <td>nan</td>\n",
       "            <td>9808</td>\n",
       "            <td>nan</td>\n",
       "            <td>nan</td>\n",
       "            <td>nan</td>\n",
       "            <td>nan</td>\n",
       "            <td>nan</td>\n",
       "            <td>nan</td>\n",
       "            <td>nan</td>\n",
       "            <td>nan</td>\n",
       "            <td>nan</td>\n",
       "            <td>nan</td>\n",
       "            <td>nan</td>\n",
       "            <td>0</td>\n",
       "        </tr>\n",
       "        <tr>\n",
       "            <td>mean</td>\n",
       "            <td>1.6901</td>\n",
       "            <td>nan</td>\n",
       "            <td>nan</td>\n",
       "            <td>1.5080</td>\n",
       "            <td>3.1002</td>\n",
       "            <td>1.0712</td>\n",
       "            <td>nan</td>\n",
       "            <td>158.5551</td>\n",
       "            <td>154.7296</td>\n",
       "            <td>1.3819</td>\n",
       "            <td>11.8822</td>\n",
       "            <td>0.8259</td>\n",
       "            <td>0.4864</td>\n",
       "            <td>1.7846</td>\n",
       "            <td>0.2246</td>\n",
       "            <td>0.2945</td>\n",
       "            <td>16.9696</td>\n",
       "            <td>2.1063</td>\n",
       "            <td>nan</td>\n",
       "        </tr>\n",
       "        <tr>\n",
       "            <td>std</td>\n",
       "            <td>0.4625</td>\n",
       "            <td>nan</td>\n",
       "            <td>nan</td>\n",
       "            <td>1.1354</td>\n",
       "            <td>3.5970</td>\n",
       "            <td>1.0755</td>\n",
       "            <td>nan</td>\n",
       "            <td>70.9288</td>\n",
       "            <td>75.2504</td>\n",
       "            <td>0.5552</td>\n",
       "            <td>10.8420</td>\n",
       "            <td>1.1167</td>\n",
       "            <td>0.1041</td>\n",
       "            <td>2.4351</td>\n",
       "            <td>1.2730</td>\n",
       "            <td>0.0570</td>\n",
       "            <td>12.5023</td>\n",
       "            <td>0.9562</td>\n",
       "            <td>nan</td>\n",
       "        </tr>\n",
       "        <tr>\n",
       "            <td>min</td>\n",
       "            <td>1</td>\n",
       "            <td>nan</td>\n",
       "            <td>nan</td>\n",
       "            <td>0.0</td>\n",
       "            <td>0.0</td>\n",
       "            <td>1.0</td>\n",
       "            <td>nan</td>\n",
       "            <td>1</td>\n",
       "            <td>1</td>\n",
       "            <td>1</td>\n",
       "            <td>-100.0</td>\n",
       "            <td>-0.5</td>\n",
       "            <td>-0.5</td>\n",
       "            <td>-1.07</td>\n",
       "            <td>-6.12</td>\n",
       "            <td>-0.3</td>\n",
       "            <td>-100.3</td>\n",
       "            <td>-2.5</td>\n",
       "            <td>nan</td>\n",
       "        </tr>\n",
       "        <tr>\n",
       "            <td>25%</td>\n",
       "            <td>1.0000</td>\n",
       "            <td>nan</td>\n",
       "            <td>nan</td>\n",
       "            <td>1.0000</td>\n",
       "            <td>1.0400</td>\n",
       "            <td>1.0000</td>\n",
       "            <td>nan</td>\n",
       "            <td>100.0000</td>\n",
       "            <td>83.0000</td>\n",
       "            <td>1.0000</td>\n",
       "            <td>6.0000</td>\n",
       "            <td>0.0000</td>\n",
       "            <td>0.5000</td>\n",
       "            <td>0.0000</td>\n",
       "            <td>0.0000</td>\n",
       "            <td>0.3000</td>\n",
       "            <td>10.3000</td>\n",
       "            <td>2.5000</td>\n",
       "            <td>nan</td>\n",
       "        </tr>\n",
       "        <tr>\n",
       "            <td>50%</td>\n",
       "            <td>2.0000</td>\n",
       "            <td>nan</td>\n",
       "            <td>nan</td>\n",
       "            <td>1.0000</td>\n",
       "            <td>1.9300</td>\n",
       "            <td>1.0000</td>\n",
       "            <td>nan</td>\n",
       "            <td>152.0000</td>\n",
       "            <td>151.0000</td>\n",
       "            <td>1.0000</td>\n",
       "            <td>8.5000</td>\n",
       "            <td>0.5000</td>\n",
       "            <td>0.5000</td>\n",
       "            <td>1.5400</td>\n",
       "            <td>0.0000</td>\n",
       "            <td>0.3000</td>\n",
       "            <td>13.5500</td>\n",
       "            <td>2.5000</td>\n",
       "            <td>nan</td>\n",
       "        </tr>\n",
       "        <tr>\n",
       "            <td>75%</td>\n",
       "            <td>2.0000</td>\n",
       "            <td>nan</td>\n",
       "            <td>nan</td>\n",
       "            <td>2.0000</td>\n",
       "            <td>3.6000</td>\n",
       "            <td>1.0000</td>\n",
       "            <td>nan</td>\n",
       "            <td>234.0000</td>\n",
       "            <td>234.0000</td>\n",
       "            <td>2.0000</td>\n",
       "            <td>13.5000</td>\n",
       "            <td>2.5000</td>\n",
       "            <td>0.5000</td>\n",
       "            <td>2.6500</td>\n",
       "            <td>0.0000</td>\n",
       "            <td>0.3000</td>\n",
       "            <td>19.3000</td>\n",
       "            <td>2.5000</td>\n",
       "            <td>nan</td>\n",
       "        </tr>\n",
       "        <tr>\n",
       "            <td>max</td>\n",
       "            <td>2</td>\n",
       "            <td>nan</td>\n",
       "            <td>nan</td>\n",
       "            <td>6.0</td>\n",
       "            <td>45.92</td>\n",
       "            <td>99.0</td>\n",
       "            <td>nan</td>\n",
       "            <td>265</td>\n",
       "            <td>265</td>\n",
       "            <td>4</td>\n",
       "            <td>121.0</td>\n",
       "            <td>3.5</td>\n",
       "            <td>0.5</td>\n",
       "            <td>80.0</td>\n",
       "            <td>25.5</td>\n",
       "            <td>0.3</td>\n",
       "            <td>137.76</td>\n",
       "            <td>2.5</td>\n",
       "            <td>nan</td>\n",
       "        </tr>\n",
       "    </tbody>\n",
       "</table><div style='position: sticky; left: 0; padding: 10px; font-size: 12px; color: black; background-color: white;'><strong></strong> </div>"
      ],
      "text/plain": [
       "+--------+----------+----------------------+-----------------------+-----------------+---------------+------------+--------------------+--------------+--------------+--------------+-------------+--------+---------+------------+--------------+-----------------------+--------------+----------------------+-------------+\n",
       "|        | VendorID | tpep_pickup_datetime | tpep_dropoff_datetime | passenger_count | trip_distance | RatecodeID | store_and_fwd_flag | PULocationID | DOLocationID | payment_type | fare_amount | extra  | mta_tax | tip_amount | tolls_amount | improvement_surcharge | total_amount | congestion_surcharge | airport_fee |\n",
       "+--------+----------+----------------------+-----------------------+-----------------+---------------+------------+--------------------+--------------+--------------+--------------+-------------+--------+---------+------------+--------------+-----------------------+--------------+----------------------+-------------+\n",
       "| count  |  10000   |        10000         |         10000         |      10000      |     10000     |   10000    |       10000        |    10000     |    10000     |    10000     |    10000    | 10000  |  10000  |   10000    |    10000     |         10000         |    10000     |        10000         |      0      |\n",
       "| unique |    2     |         8766         |          8745         |        7        |      1243     |     6      |         2          |     173      |     230      |      4       |     228     |   8    |    3    |    504     |      18      |           3           |     959      |          3           |      0      |\n",
       "|  top   |   nan    | 2021-01-01 00:41:19  |  2021-01-02 00:00:00  |       nan       |      nan      |    nan     |         N          |     nan      |     nan      |     nan      |     nan     |  nan   |   nan   |    nan     |     nan      |          nan          |     nan      |         nan          |     None    |\n",
       "|  freq  |   nan    |          4           |           7           |       nan       |      nan      |    nan     |        9808        |     nan      |     nan      |     nan      |     nan     |  nan   |   nan   |    nan     |     nan      |          nan          |     nan      |         nan          |      0      |\n",
       "|  mean  |  1.6901  |         nan          |          nan          |      1.5080     |     3.1002    |   1.0712   |        nan         |   158.5551   |   154.7296   |    1.3819    |   11.8822   | 0.8259 |  0.4864 |   1.7846   |    0.2246    |         0.2945        |   16.9696    |        2.1063        |     nan     |\n",
       "|  std   |  0.4625  |         nan          |          nan          |      1.1354     |     3.5970    |   1.0755   |        nan         |   70.9288    |   75.2504    |    0.5552    |   10.8420   | 1.1167 |  0.1041 |   2.4351   |    1.2730    |         0.0570        |   12.5023    |        0.9562        |     nan     |\n",
       "|  min   |    1     |         nan          |          nan          |       0.0       |      0.0      |    1.0     |        nan         |      1       |      1       |      1       |    -100.0   |  -0.5  |   -0.5  |   -1.07    |    -6.12     |          -0.3         |    -100.3    |         -2.5         |     nan     |\n",
       "|  25%   |  1.0000  |         nan          |          nan          |      1.0000     |     1.0400    |   1.0000   |        nan         |   100.0000   |   83.0000    |    1.0000    |    6.0000   | 0.0000 |  0.5000 |   0.0000   |    0.0000    |         0.3000        |   10.3000    |        2.5000        |     nan     |\n",
       "|  50%   |  2.0000  |         nan          |          nan          |      1.0000     |     1.9300    |   1.0000   |        nan         |   152.0000   |   151.0000   |    1.0000    |    8.5000   | 0.5000 |  0.5000 |   1.5400   |    0.0000    |         0.3000        |   13.5500    |        2.5000        |     nan     |\n",
       "|  75%   |  2.0000  |         nan          |          nan          |      2.0000     |     3.6000    |   1.0000   |        nan         |   234.0000   |   234.0000   |    2.0000    |   13.5000   | 2.5000 |  0.5000 |   2.6500   |    0.0000    |         0.3000        |   19.3000    |        2.5000        |     nan     |\n",
       "|  max   |    2     |         nan          |          nan          |       6.0       |     45.92     |    99.0    |        nan         |     265      |     265      |      4       |    121.0    |  3.5   |   0.5   |    80.0    |     25.5     |          0.3          |    137.76    |         2.5          |     nan     |\n",
       "+--------+----------+----------------------+-----------------------+-----------------+---------------+------------+--------------------+--------------+--------------+--------------+-------------+--------+---------+------------+--------------+-----------------------+--------------+----------------------+-------------+"
      ]
     },
     "execution_count": 34,
     "metadata": {},
     "output_type": "execute_result"
    }
   ],
   "source": [
    "%sqlcmd profile -t taxi"
   ]
  },
  {
   "attachments": {},
   "cell_type": "markdown",
   "metadata": {},
   "source": [
    "## Plotting"
   ]
  },
  {
   "cell_type": "code",
   "execution_count": 35,
   "metadata": {
    "tags": []
   },
   "outputs": [
    {
     "data": {
      "text/plain": [
       "<Axes: title={'center': \"'trip_distance' from 'taxi'\"}, xlabel='trip_distance', ylabel='Count'>"
      ]
     },
     "execution_count": 35,
     "metadata": {},
     "output_type": "execute_result"
    },
    {
     "data": {
      "image/png": "[encoded data removed]",
      "text/plain": [
       "<Figure size 640x480 with 1 Axes>"
      ]
     },
     "metadata": {},
     "output_type": "display_data"
    }
   ],
   "source": [
    "%sqlplot histogram --table taxi --column trip_distance --bins 10"
   ]
  },
  {
   "cell_type": "code",
   "execution_count": 36,
   "metadata": {
    "tags": []
   },
   "outputs": [
    {
     "data": {
      "text/plain": [
       "<Axes: title={'center': \"'trip_distance' from 'taxi'\"}, ylabel='trip_distance'>"
      ]
     },
     "execution_count": 36,
     "metadata": {},
     "output_type": "execute_result"
    },
    {
     "data": {
      "image/png": "[encoded data removed]",
      "text/plain": [
       "<Figure size 640x480 with 1 Axes>"
      ]
     },
     "metadata": {},
     "output_type": "display_data"
    }
   ],
   "source": [
    "%sqlplot boxplot --table taxi --column trip_distance"
   ]
  },
  {
   "cell_type": "code",
   "execution_count": 37,
   "metadata": {},
   "outputs": [
    {
     "data": {
      "text/html": [
       "<span style=\"None\">Removing NULLs, if there exists any from payment_type</span>"
      ],
      "text/plain": [
       "Removing NULLs, if there exists any from payment_type"
      ]
     },
     "metadata": {},
     "output_type": "display_data"
    },
    {
     "data": {
      "text/plain": [
       "<Axes: title={'center': 'taxi'}, xlabel='payment_type', ylabel='Count'>"
      ]
     },
     "execution_count": 37,
     "metadata": {},
     "output_type": "execute_result"
    },
    {
     "data": {
      "image/png": "[encoded data removed]",
      "text/plain": [
       "<Figure size 640x480 with 1 Axes>"
      ]
     },
     "metadata": {},
     "output_type": "display_data"
    }
   ],
   "source": [
    "%sqlplot bar --table taxi --column payment_type"
   ]
  },
  {
   "cell_type": "code",
   "execution_count": 38,
   "metadata": {},
   "outputs": [
    {
     "data": {
      "text/html": [
       "<span style=\"None\">Removing NULLs, if there exists any from payment_type</span>"
      ],
      "text/plain": [
       "Removing NULLs, if there exists any from payment_type"
      ]
     },
     "metadata": {},
     "output_type": "display_data"
    },
    {
     "data": {
      "text/plain": [
       "<Axes: title={'center': 'taxi'}>"
      ]
     },
     "execution_count": 38,
     "metadata": {},
     "output_type": "execute_result"
    },
    {
     "data": {
      "image/png": "[encoded data removed]",
      "text/plain": [
       "<Figure size 640x480 with 1 Axes>"
      ]
     },
     "metadata": {},
     "output_type": "display_data"
    }
   ],
   "source": [
    "%sqlplot pie --table taxi --column payment_type"
   ]
  },
  {
   "cell_type": "code",
   "execution_count": 39,
   "metadata": {},
   "outputs": [],
   "source": [
    "from sql.ggplot import ggplot, aes, geom_histogram"
   ]
  },
  {
   "cell_type": "code",
   "execution_count": 40,
   "metadata": {},
   "outputs": [
    {
     "data": {
      "text/plain": [
       "<sql.ggplot.ggplot.ggplot at 0x14efcf7f0>"
      ]
     },
     "execution_count": 40,
     "metadata": {},
     "output_type": "execute_result"
    },
    {
     "data": {
      "image/png": "[encoded data removed]",
      "text/plain": [
       "<Figure size 640x480 with 1 Axes>"
      ]
     },
     "metadata": {},
     "output_type": "display_data"
    }
   ],
   "source": [
    "(ggplot(table=\"taxi\", mapping=aes(x=\"trip_distance\")) + geom_histogram(bins=10))"
   ]
  },
  {
   "attachments": {},
   "cell_type": "markdown",
   "metadata": {},
   "source": [
    "## Clean up\n",
    "\n",
    "To stop and remove the container:"
   ]
  },
  {
   "cell_type": "code",
   "execution_count": 41,
   "metadata": {
    "tags": []
   },
   "outputs": [
    {
     "name": "stdout",
     "output_type": "stream",
     "text": [
      "CONTAINER ID   IMAGE                                                      COMMAND                  CREATED              STATUS              PORTS                                              NAMES\n",
      "12f699ee8e8e   wh1isper/sparglim-server                                   \"tini -- sparglim-se…\"   About a minute ago   Up About a minute   0.0.0.0:4040->4040/tcp, 0.0.0.0:15002->15002/tcp   spark\n",
      "f019407c6426   docker.dev.slicelife.com/onelogin-aws-assume-role:stable   \"onelogin-aws-assume…\"   2 weeks ago          Up 2 weeks                                                             heuristic_tu\n"
     ]
    }
   ],
   "source": [
    "! docker container ls"
   ]
  },
  {
   "cell_type": "code",
   "execution_count": 42,
   "metadata": {
    "tags": []
   },
   "outputs": [],
   "source": [
    "%%capture out\n",
    "! docker container ls --filter ancestor=wh1isper/sparglim-server --quiet"
   ]
  },
  {
   "cell_type": "code",
   "execution_count": 43,
   "metadata": {
    "tags": []
   },
   "outputs": [
    {
     "name": "stdout",
     "output_type": "stream",
     "text": [
      "Container id: 12f699ee8e8e\n"
     ]
    }
   ],
   "source": [
    "container_id = out.stdout.strip()\n",
    "print(f\"Container id: {container_id}\")"
   ]
  },
  {
   "cell_type": "code",
   "execution_count": 44,
   "metadata": {
    "tags": []
   },
   "outputs": [
    {
     "name": "stdout",
     "output_type": "stream",
     "text": [
      "12f699ee8e8e\n"
     ]
    }
   ],
   "source": [
    "! docker container stop {container_id}"
   ]
  },
  {
   "cell_type": "code",
   "execution_count": 45,
   "metadata": {
    "tags": []
   },
   "outputs": [
    {
     "name": "stdout",
     "output_type": "stream",
     "text": [
      "12f699ee8e8e\n"
     ]
    }
   ],
   "source": [
    "! docker container rm {container_id}"
   ]
  }
 ],
 "metadata": {
  "kernelspec": {
   "display_name": "Python 3 (ipykernel)",
   "language": "python",
   "name": "python3"
  },
  "language_info": {
   "codemirror_mode": {
    "name": "ipython",
    "version": 3
   },
   "file_extension": ".py",
   "mimetype": "text/x-python",
   "name": "python",
   "nbconvert_exporter": "python",
   "pygments_lexer": "ipython3",
   "version": "3.10.13"
  },
  "myst": {
   "html_meta": {
    "description lang=en": "Query using Spark SQL from Jupyter via JupySQL",
    "keywords": "jupyter, sql, jupysql, spark",
    "property=og:locale": "en_US"
   }
  },
  "vscode": {
   "interpreter": {
    "hash": "8de7291ac4f217ed756f77e1d71d41823fff9c4ffb13df0a183e9309929ad9aa"
   }
  },
  "widgets": {
   "application/vnd.jupyter.widget-state+json": {
    "state": {},
    "version_major": 2,
    "version_minor": 0
   }
  }
 },
 "nbformat": 4,
 "nbformat_minor": 4
}
